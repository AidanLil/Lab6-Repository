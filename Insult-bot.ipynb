{
 "cells": [
  {
   "cell_type": "code",
   "execution_count": 8,
   "metadata": {},
   "outputs": [
    {
     "name": "stdin",
     "output_type": "stream",
     "text": [
      "What is your name? Aidan\n",
      "Thats a nice name, what is your major? computer science\n"
     ]
    },
    {
     "name": "stdout",
     "output_type": "stream",
     "text": [
      "Why are you such a nerd Aidan\n"
     ]
    }
   ],
   "source": [
    "name = input(\"What is your name?\")\n",
    "\n",
    "major = input(\"Thats a nice name, what is your major?\")\n",
    "\n",
    "if major.lower() == \"computer science\":\n",
    "    print(\"Why are you such a nerd\", name)\n",
    "elif major.lower() == \"undecided\":\n",
    "    print(name, \"my insult for you was well-crafted, witty... a true masterwork. Then I saw you and decided to save it for someone who will understand.\")\n",
    "else:\n",
    "    print(\"Thats interesting \", name.strip(),\", so you don't know how to use a computer?\")"
   ]
  },
  {
   "cell_type": "code",
   "execution_count": null,
   "metadata": {},
   "outputs": [],
   "source": []
  }
 ],
 "metadata": {
  "kernelspec": {
   "display_name": "Python 3",
   "language": "python",
   "name": "python3"
  },
  "language_info": {
   "codemirror_mode": {
    "name": "ipython",
    "version": 3
   },
   "file_extension": ".py",
   "mimetype": "text/x-python",
   "name": "python",
   "nbconvert_exporter": "python",
   "pygments_lexer": "ipython3",
   "version": "3.8.3"
  }
 },
 "nbformat": 4,
 "nbformat_minor": 4
}
